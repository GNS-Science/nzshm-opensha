{
 "cells": [
  {
   "cell_type": "code",
   "execution_count": 32,
   "id": "a98437a0-d942-45ca-9f40-a8aa03edb6d8",
   "metadata": {},
   "outputs": [],
   "source": [
    "import pickle\n",
    "import json\n",
    "\n",
    "mapping = pickle.load(open(\"hikkerm_discretized_trimmed_dict.pkl\", \"rb\"))\n",
    "\n",
    "indices = {k: [int(i) for i in mapping[k][\"triangle_indices\"]] for k in mapping}\n",
    "\n",
    "jsonString = json.dumps(indices, indent=2)\n",
    "\n",
    "f = open(\"hikkerm_discretized_trimmed_dict.json\", \"a\")\n",
    "f.write(jsonString)\n",
    "f.close()"
   ]
  },
  {
   "cell_type": "code",
   "execution_count": null,
   "id": "2838bc29-cb92-4e53-bdf4-5c0db46c7883",
   "metadata": {},
   "outputs": [],
   "source": []
  }
 ],
 "metadata": {
  "kernelspec": {
   "display_name": "Python 3 (ipykernel)",
   "language": "python",
   "name": "python3"
  },
  "language_info": {
   "codemirror_mode": {
    "name": "ipython",
    "version": 3
   },
   "file_extension": ".py",
   "mimetype": "text/x-python",
   "name": "python",
   "nbconvert_exporter": "python",
   "pygments_lexer": "ipython3",
   "version": "3.11.9"
  }
 },
 "nbformat": 4,
 "nbformat_minor": 5
}
